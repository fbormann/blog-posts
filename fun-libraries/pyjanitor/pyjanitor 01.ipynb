{
 "cells": [
  {
   "cell_type": "code",
   "execution_count": 3,
   "metadata": {},
   "outputs": [],
   "source": [
    "import pandas as pd\n",
    "import janitor"
   ]
  },
  {
   "cell_type": "code",
   "execution_count": 4,
   "metadata": {},
   "outputs": [],
   "source": [
    "dirty_dataset = {\n",
    "    \"name\": [\"felipe\", \"carlos\", \"blue\", \"safira\"],\n",
    "    \"id\": [1, 2, 3, 4],\n",
    "    \"age\": [25, 20, 21, None],\n",
    "    \"payment #ID\": [213234, 423423, 534543, None],\n",
    "    \"value\": [85.0, 86, 120.0, 200],\n",
    "    \"due_date\": [\"01/09/2020\", \"12/12/2020\", None, \"21/09/2021\"],\n",
    "    \n",
    "}"
   ]
  },
  {
   "cell_type": "code",
   "execution_count": 40,
   "metadata": {},
   "outputs": [],
   "source": [
    "df = pd.DataFrame(dirty_dataset)"
   ]
  },
  {
   "cell_type": "code",
   "execution_count": 41,
   "metadata": {},
   "outputs": [
    {
     "data": {
      "text/html": [
       "<div>\n",
       "<style scoped>\n",
       "    .dataframe tbody tr th:only-of-type {\n",
       "        vertical-align: middle;\n",
       "    }\n",
       "\n",
       "    .dataframe tbody tr th {\n",
       "        vertical-align: top;\n",
       "    }\n",
       "\n",
       "    .dataframe thead th {\n",
       "        text-align: right;\n",
       "    }\n",
       "</style>\n",
       "<table border=\"1\" class=\"dataframe\">\n",
       "  <thead>\n",
       "    <tr style=\"text-align: right;\">\n",
       "      <th></th>\n",
       "      <th>name</th>\n",
       "      <th>id</th>\n",
       "      <th>age</th>\n",
       "      <th>payment #ID</th>\n",
       "      <th>value</th>\n",
       "      <th>due_date</th>\n",
       "    </tr>\n",
       "  </thead>\n",
       "  <tbody>\n",
       "    <tr>\n",
       "      <th>0</th>\n",
       "      <td>felipe</td>\n",
       "      <td>1</td>\n",
       "      <td>25.0</td>\n",
       "      <td>213234.0</td>\n",
       "      <td>85.0</td>\n",
       "      <td>01/09/2020</td>\n",
       "    </tr>\n",
       "    <tr>\n",
       "      <th>1</th>\n",
       "      <td>carlos</td>\n",
       "      <td>2</td>\n",
       "      <td>20.0</td>\n",
       "      <td>423423.0</td>\n",
       "      <td>86.0</td>\n",
       "      <td>12/12/2020</td>\n",
       "    </tr>\n",
       "    <tr>\n",
       "      <th>2</th>\n",
       "      <td>blue</td>\n",
       "      <td>3</td>\n",
       "      <td>21.0</td>\n",
       "      <td>534543.0</td>\n",
       "      <td>120.0</td>\n",
       "      <td>None</td>\n",
       "    </tr>\n",
       "    <tr>\n",
       "      <th>3</th>\n",
       "      <td>safira</td>\n",
       "      <td>4</td>\n",
       "      <td>NaN</td>\n",
       "      <td>NaN</td>\n",
       "      <td>200.0</td>\n",
       "      <td>21/09/2021</td>\n",
       "    </tr>\n",
       "  </tbody>\n",
       "</table>\n",
       "</div>"
      ],
      "text/plain": [
       "     name  id   age  payment #ID  value    due_date\n",
       "0  felipe   1  25.0     213234.0   85.0  01/09/2020\n",
       "1  carlos   2  20.0     423423.0   86.0  12/12/2020\n",
       "2    blue   3  21.0     534543.0  120.0        None\n",
       "3  safira   4   NaN          NaN  200.0  21/09/2021"
      ]
     },
     "execution_count": 41,
     "metadata": {},
     "output_type": "execute_result"
    }
   ],
   "source": [
    "df.head(10)"
   ]
  },
  {
   "cell_type": "code",
   "execution_count": 42,
   "metadata": {
    "scrolled": true
   },
   "outputs": [
    {
     "data": {
      "text/plain": [
       "name            object\n",
       "id               int64\n",
       "age            float64\n",
       "payment #ID    float64\n",
       "value          float64\n",
       "due_date        object\n",
       "dtype: object"
      ]
     },
     "execution_count": 42,
     "metadata": {},
     "output_type": "execute_result"
    }
   ],
   "source": [
    "df.dtypes"
   ]
  },
  {
   "cell_type": "code",
   "execution_count": 43,
   "metadata": {},
   "outputs": [
    {
     "data": {
      "text/html": [
       "<div>\n",
       "<style scoped>\n",
       "    .dataframe tbody tr th:only-of-type {\n",
       "        vertical-align: middle;\n",
       "    }\n",
       "\n",
       "    .dataframe tbody tr th {\n",
       "        vertical-align: top;\n",
       "    }\n",
       "\n",
       "    .dataframe thead th {\n",
       "        text-align: right;\n",
       "    }\n",
       "</style>\n",
       "<table border=\"1\" class=\"dataframe\">\n",
       "  <thead>\n",
       "    <tr style=\"text-align: right;\">\n",
       "      <th></th>\n",
       "      <th>name</th>\n",
       "      <th>id</th>\n",
       "      <th>age</th>\n",
       "      <th>payment #ID</th>\n",
       "      <th>value</th>\n",
       "      <th>due_date</th>\n",
       "    </tr>\n",
       "  </thead>\n",
       "  <tbody>\n",
       "    <tr>\n",
       "      <th>0</th>\n",
       "      <td>felipe</td>\n",
       "      <td>1</td>\n",
       "      <td>25.0</td>\n",
       "      <td>213234.0</td>\n",
       "      <td>85.0</td>\n",
       "      <td>01/09/2020</td>\n",
       "    </tr>\n",
       "    <tr>\n",
       "      <th>1</th>\n",
       "      <td>carlos</td>\n",
       "      <td>2</td>\n",
       "      <td>20.0</td>\n",
       "      <td>423423.0</td>\n",
       "      <td>86.0</td>\n",
       "      <td>12/12/2020</td>\n",
       "    </tr>\n",
       "    <tr>\n",
       "      <th>2</th>\n",
       "      <td>blue</td>\n",
       "      <td>3</td>\n",
       "      <td>21.0</td>\n",
       "      <td>534543.0</td>\n",
       "      <td>120.0</td>\n",
       "      <td>None</td>\n",
       "    </tr>\n",
       "    <tr>\n",
       "      <th>3</th>\n",
       "      <td>safira</td>\n",
       "      <td>4</td>\n",
       "      <td>NaN</td>\n",
       "      <td>NaN</td>\n",
       "      <td>200.0</td>\n",
       "      <td>21/09/2021</td>\n",
       "    </tr>\n",
       "  </tbody>\n",
       "</table>\n",
       "</div>"
      ],
      "text/plain": [
       "     name  id   age  payment #ID  value    due_date\n",
       "0  felipe   1  25.0     213234.0   85.0  01/09/2020\n",
       "1  carlos   2  20.0     423423.0   86.0  12/12/2020\n",
       "2    blue   3  21.0     534543.0  120.0        None\n",
       "3  safira   4   NaN          NaN  200.0  21/09/2021"
      ]
     },
     "execution_count": 43,
     "metadata": {},
     "output_type": "execute_result"
    }
   ],
   "source": [
    "df"
   ]
  },
  {
   "cell_type": "markdown",
   "metadata": {},
   "source": [
    "Como dá pra ver, nós temos alguns problemas no dataset, pense por uns dois minutos que você **acha** problemático no dataset.\n",
    "\n"
   ]
  },
  {
   "cell_type": "markdown",
   "metadata": {},
   "source": [
    "Os principais que eu consigo enxergar são:\n",
    "* payment #ID é um nome de coluna horrível para quase qualquer sistema.\n",
    "* payment #ID tá listado como float64 quando é fácil ver que é do tipo inteiro, assim como age.\n",
    "* due_date tá listado como tipo \"object\" quando é óbvio que seu tipo é Date/datetime\n",
    "* Missing data nas colunas age, payment #ID e due_date"
   ]
  },
  {
   "cell_type": "markdown",
   "metadata": {},
   "source": [
    "Então eu vou mostrar como eu faria essas limpezas utilizando pandas somente e depois a diferença ao utilizar Pyjanitor.\n"
   ]
  },
  {
   "cell_type": "markdown",
   "metadata": {},
   "source": [
    "# Limpando utilizando pandas"
   ]
  },
  {
   "cell_type": "code",
   "execution_count": 45,
   "metadata": {},
   "outputs": [],
   "source": [
    "cleaned_by_pandas_df = df.copy()\n",
    "cleaned_by_pandas_df.rename(columns={\"payment #ID\": \"payment_id\"}, inplace=True)\n",
    "desired_dtypes = {\n",
    "    \"age\": \"int32\",\n",
    "    \"payment_id\": \"int64\",\n",
    "    \"due_date\": \"datetime64\",\n",
    "    \"value\": \"float64\"\n",
    "}\n",
    "cleaned_by_pandas_df[\"age\"].fillna(cleaned_by_pandas_df[\"age\"].median(), inplace=True)\n",
    "cleaned_by_pandas_df.dropna(subset=[\"payment_id\"], inplace=True)\n",
    "cleaned_by_pandas_df = cleaned_by_pandas_df.astype(desired_dtypes)"
   ]
  },
  {
   "cell_type": "code",
   "execution_count": 46,
   "metadata": {
    "scrolled": true
   },
   "outputs": [
    {
     "data": {
      "text/html": [
       "<div>\n",
       "<style scoped>\n",
       "    .dataframe tbody tr th:only-of-type {\n",
       "        vertical-align: middle;\n",
       "    }\n",
       "\n",
       "    .dataframe tbody tr th {\n",
       "        vertical-align: top;\n",
       "    }\n",
       "\n",
       "    .dataframe thead th {\n",
       "        text-align: right;\n",
       "    }\n",
       "</style>\n",
       "<table border=\"1\" class=\"dataframe\">\n",
       "  <thead>\n",
       "    <tr style=\"text-align: right;\">\n",
       "      <th></th>\n",
       "      <th>name</th>\n",
       "      <th>id</th>\n",
       "      <th>age</th>\n",
       "      <th>payment_id</th>\n",
       "      <th>value</th>\n",
       "      <th>due_date</th>\n",
       "    </tr>\n",
       "  </thead>\n",
       "  <tbody>\n",
       "    <tr>\n",
       "      <th>0</th>\n",
       "      <td>felipe</td>\n",
       "      <td>1</td>\n",
       "      <td>25</td>\n",
       "      <td>213234</td>\n",
       "      <td>85.0</td>\n",
       "      <td>2020-01-09</td>\n",
       "    </tr>\n",
       "    <tr>\n",
       "      <th>1</th>\n",
       "      <td>carlos</td>\n",
       "      <td>2</td>\n",
       "      <td>20</td>\n",
       "      <td>423423</td>\n",
       "      <td>86.0</td>\n",
       "      <td>2020-12-12</td>\n",
       "    </tr>\n",
       "    <tr>\n",
       "      <th>2</th>\n",
       "      <td>blue</td>\n",
       "      <td>3</td>\n",
       "      <td>21</td>\n",
       "      <td>534543</td>\n",
       "      <td>120.0</td>\n",
       "      <td>NaT</td>\n",
       "    </tr>\n",
       "  </tbody>\n",
       "</table>\n",
       "</div>"
      ],
      "text/plain": [
       "     name  id  age  payment_id  value   due_date\n",
       "0  felipe   1   25      213234   85.0 2020-01-09\n",
       "1  carlos   2   20      423423   86.0 2020-12-12\n",
       "2    blue   3   21      534543  120.0        NaT"
      ]
     },
     "execution_count": 46,
     "metadata": {},
     "output_type": "execute_result"
    }
   ],
   "source": [
    "cleaned_by_pandas_df.head(10)"
   ]
  },
  {
   "cell_type": "markdown",
   "metadata": {},
   "source": [
    "#  Limpando dados utilizando pyjanitor"
   ]
  },
  {
   "cell_type": "code",
   "execution_count": 47,
   "metadata": {},
   "outputs": [],
   "source": [
    "cleaned_by_janitor_df = (\n",
    "    df\n",
    "    .rename_column(\"payment #ID\", \"payment_id\")\n",
    "    .dropna(subset=[\"payment_id\"])\n",
    "    .change_type('age', 'int32')\n",
    "    .change_type('due_date', 'datetime64')\n",
    "    .change_type('payment_id', 'int64')\n",
    "    .fill_empty('age', df[\"age\"].median())\n",
    ")"
   ]
  },
  {
   "cell_type": "code",
   "execution_count": 48,
   "metadata": {},
   "outputs": [
    {
     "data": {
      "text/html": [
       "<div>\n",
       "<style scoped>\n",
       "    .dataframe tbody tr th:only-of-type {\n",
       "        vertical-align: middle;\n",
       "    }\n",
       "\n",
       "    .dataframe tbody tr th {\n",
       "        vertical-align: top;\n",
       "    }\n",
       "\n",
       "    .dataframe thead th {\n",
       "        text-align: right;\n",
       "    }\n",
       "</style>\n",
       "<table border=\"1\" class=\"dataframe\">\n",
       "  <thead>\n",
       "    <tr style=\"text-align: right;\">\n",
       "      <th></th>\n",
       "      <th>name</th>\n",
       "      <th>id</th>\n",
       "      <th>age</th>\n",
       "      <th>payment_id</th>\n",
       "      <th>value</th>\n",
       "      <th>due_date</th>\n",
       "    </tr>\n",
       "  </thead>\n",
       "  <tbody>\n",
       "    <tr>\n",
       "      <th>0</th>\n",
       "      <td>felipe</td>\n",
       "      <td>1</td>\n",
       "      <td>25</td>\n",
       "      <td>213234</td>\n",
       "      <td>85.0</td>\n",
       "      <td>2020-01-09</td>\n",
       "    </tr>\n",
       "    <tr>\n",
       "      <th>1</th>\n",
       "      <td>carlos</td>\n",
       "      <td>2</td>\n",
       "      <td>20</td>\n",
       "      <td>423423</td>\n",
       "      <td>86.0</td>\n",
       "      <td>2020-12-12</td>\n",
       "    </tr>\n",
       "    <tr>\n",
       "      <th>2</th>\n",
       "      <td>blue</td>\n",
       "      <td>3</td>\n",
       "      <td>21</td>\n",
       "      <td>534543</td>\n",
       "      <td>120.0</td>\n",
       "      <td>NaT</td>\n",
       "    </tr>\n",
       "  </tbody>\n",
       "</table>\n",
       "</div>"
      ],
      "text/plain": [
       "     name  id  age  payment_id  value   due_date\n",
       "0  felipe   1   25      213234   85.0 2020-01-09\n",
       "1  carlos   2   20      423423   86.0 2020-12-12\n",
       "2    blue   3   21      534543  120.0        NaT"
      ]
     },
     "execution_count": 48,
     "metadata": {},
     "output_type": "execute_result"
    }
   ],
   "source": [
    "cleaned_by_janitor_df.head(10)"
   ]
  },
  {
   "cell_type": "code",
   "execution_count": 49,
   "metadata": {
    "scrolled": true
   },
   "outputs": [
    {
     "data": {
      "text/html": [
       "<div>\n",
       "<style scoped>\n",
       "    .dataframe tbody tr th:only-of-type {\n",
       "        vertical-align: middle;\n",
       "    }\n",
       "\n",
       "    .dataframe tbody tr th {\n",
       "        vertical-align: top;\n",
       "    }\n",
       "\n",
       "    .dataframe thead th {\n",
       "        text-align: right;\n",
       "    }\n",
       "</style>\n",
       "<table border=\"1\" class=\"dataframe\">\n",
       "  <thead>\n",
       "    <tr style=\"text-align: right;\">\n",
       "      <th></th>\n",
       "      <th>name</th>\n",
       "      <th>id</th>\n",
       "      <th>age</th>\n",
       "      <th>payment #ID</th>\n",
       "      <th>value</th>\n",
       "      <th>due_date</th>\n",
       "    </tr>\n",
       "  </thead>\n",
       "  <tbody>\n",
       "    <tr>\n",
       "      <th>0</th>\n",
       "      <td>felipe</td>\n",
       "      <td>1</td>\n",
       "      <td>25.0</td>\n",
       "      <td>213234.0</td>\n",
       "      <td>85.0</td>\n",
       "      <td>01/09/2020</td>\n",
       "    </tr>\n",
       "    <tr>\n",
       "      <th>1</th>\n",
       "      <td>carlos</td>\n",
       "      <td>2</td>\n",
       "      <td>20.0</td>\n",
       "      <td>423423.0</td>\n",
       "      <td>86.0</td>\n",
       "      <td>12/12/2020</td>\n",
       "    </tr>\n",
       "    <tr>\n",
       "      <th>2</th>\n",
       "      <td>blue</td>\n",
       "      <td>3</td>\n",
       "      <td>21.0</td>\n",
       "      <td>534543.0</td>\n",
       "      <td>120.0</td>\n",
       "      <td>None</td>\n",
       "    </tr>\n",
       "    <tr>\n",
       "      <th>3</th>\n",
       "      <td>safira</td>\n",
       "      <td>4</td>\n",
       "      <td>NaN</td>\n",
       "      <td>NaN</td>\n",
       "      <td>200.0</td>\n",
       "      <td>21/09/2021</td>\n",
       "    </tr>\n",
       "  </tbody>\n",
       "</table>\n",
       "</div>"
      ],
      "text/plain": [
       "     name  id   age  payment #ID  value    due_date\n",
       "0  felipe   1  25.0     213234.0   85.0  01/09/2020\n",
       "1  carlos   2  20.0     423423.0   86.0  12/12/2020\n",
       "2    blue   3  21.0     534543.0  120.0        None\n",
       "3  safira   4   NaN          NaN  200.0  21/09/2021"
      ]
     },
     "execution_count": 49,
     "metadata": {},
     "output_type": "execute_result"
    }
   ],
   "source": [
    "df.head(10)"
   ]
  },
  {
   "cell_type": "markdown",
   "metadata": {},
   "source": [
    "# Expandir pyjanitor"
   ]
  },
  {
   "cell_type": "code",
   "execution_count": 50,
   "metadata": {},
   "outputs": [],
   "source": [
    "import pandas_flavor as pf\n",
    "\n",
    "\n",
    "@pf.register_dataframe_method\n",
    "def remove_column(df, column_name: str):\n",
    "    del df[column_name]\n",
    "    return df"
   ]
  },
  {
   "cell_type": "code",
   "execution_count": 52,
   "metadata": {},
   "outputs": [],
   "source": [
    "cleaned_by_janitor_df = (\n",
    "    cleaned_by_janitor_df\n",
    "    .remove_column(\"age\")\n",
    "    .remove_column(\"name\")\n",
    ")"
   ]
  },
  {
   "cell_type": "code",
   "execution_count": 53,
   "metadata": {},
   "outputs": [
    {
     "data": {
      "text/html": [
       "<div>\n",
       "<style scoped>\n",
       "    .dataframe tbody tr th:only-of-type {\n",
       "        vertical-align: middle;\n",
       "    }\n",
       "\n",
       "    .dataframe tbody tr th {\n",
       "        vertical-align: top;\n",
       "    }\n",
       "\n",
       "    .dataframe thead th {\n",
       "        text-align: right;\n",
       "    }\n",
       "</style>\n",
       "<table border=\"1\" class=\"dataframe\">\n",
       "  <thead>\n",
       "    <tr style=\"text-align: right;\">\n",
       "      <th></th>\n",
       "      <th>id</th>\n",
       "      <th>payment_id</th>\n",
       "      <th>value</th>\n",
       "      <th>due_date</th>\n",
       "    </tr>\n",
       "  </thead>\n",
       "  <tbody>\n",
       "    <tr>\n",
       "      <th>0</th>\n",
       "      <td>1</td>\n",
       "      <td>213234</td>\n",
       "      <td>85.0</td>\n",
       "      <td>2020-01-09</td>\n",
       "    </tr>\n",
       "    <tr>\n",
       "      <th>1</th>\n",
       "      <td>2</td>\n",
       "      <td>423423</td>\n",
       "      <td>86.0</td>\n",
       "      <td>2020-12-12</td>\n",
       "    </tr>\n",
       "    <tr>\n",
       "      <th>2</th>\n",
       "      <td>3</td>\n",
       "      <td>534543</td>\n",
       "      <td>120.0</td>\n",
       "      <td>NaT</td>\n",
       "    </tr>\n",
       "  </tbody>\n",
       "</table>\n",
       "</div>"
      ],
      "text/plain": [
       "   id  payment_id  value   due_date\n",
       "0   1      213234   85.0 2020-01-09\n",
       "1   2      423423   86.0 2020-12-12\n",
       "2   3      534543  120.0        NaT"
      ]
     },
     "execution_count": 53,
     "metadata": {},
     "output_type": "execute_result"
    }
   ],
   "source": [
    "cleaned_by_janitor_df.head(10)"
   ]
  },
  {
   "cell_type": "code",
   "execution_count": null,
   "metadata": {},
   "outputs": [],
   "source": []
  }
 ],
 "metadata": {
  "kernelspec": {
   "display_name": "Python 3",
   "language": "python",
   "name": "python3"
  },
  "language_info": {
   "codemirror_mode": {
    "name": "ipython",
    "version": 3
   },
   "file_extension": ".py",
   "mimetype": "text/x-python",
   "name": "python",
   "nbconvert_exporter": "python",
   "pygments_lexer": "ipython3",
   "version": "3.8.2"
  }
 },
 "nbformat": 4,
 "nbformat_minor": 4
}
